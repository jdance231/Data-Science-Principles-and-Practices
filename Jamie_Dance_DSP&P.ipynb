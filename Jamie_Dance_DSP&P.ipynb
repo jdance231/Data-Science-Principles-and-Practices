{
  "nbformat": 4,
  "nbformat_minor": 0,
  "metadata": {
    "kernelspec": {
      "display_name": "Python 3",
      "language": "python",
      "name": "python3"
    },
    "language_info": {
      "codemirror_mode": {
        "name": "ipython",
        "version": 3
      },
      "file_extension": ".py",
      "mimetype": "text/x-python",
      "name": "python",
      "nbconvert_exporter": "python",
      "pygments_lexer": "ipython3",
      "version": "3.8.5"
    },
    "colab": {
      "name": "Jamie_Dance_DSP&P.ipynb",
      "provenance": [],
      "include_colab_link": true
    }
  },
  "cells": [
    {
      "cell_type": "markdown",
      "metadata": {
        "id": "view-in-github",
        "colab_type": "text"
      },
      "source": [
        "<a href=\"https://colab.research.google.com/github/jdance231/Data-Science-Principles-and-Practices/blob/main/Jamie_Dance_DSP%26P.ipynb\" target=\"_parent\"><img src=\"https://colab.research.google.com/assets/colab-badge.svg\" alt=\"Open In Colab\"/></a>"
      ]
    },
    {
      "cell_type": "markdown",
      "metadata": {
        "id": "tRNx-Tpbz7pT"
      },
      "source": [
        "# Jamie Dance Data Science Principles and Practices\n",
        "\n",
        "\n",
        "-------------------------------------------------------------------------------------------------\n"
      ]
    },
    {
      "cell_type": "markdown",
      "metadata": {
        "id": "PKXdQGazz7pV"
      },
      "source": [
        "**Import all necessary packages:**"
      ]
    },
    {
      "cell_type": "code",
      "metadata": {
        "scrolled": true,
        "id": "dFJUZROVz7pW"
      },
      "source": [
        "import scipy.stats as ss\n",
        "import numpy as np\n",
        "import pandas as pd\n",
        "import statsmodels.api as sm\n",
        "import matplotlib.pyplot as plt\n",
        "import seaborn as sns"
      ],
      "execution_count": null,
      "outputs": []
    },
    {
      "cell_type": "markdown",
      "metadata": {
        "id": "Z1vVuPQ7z7pX"
      },
      "source": [
        "# Task 1 - Maximum Likelihood Inference"
      ]
    },
    {
      "cell_type": "markdown",
      "metadata": {
        "id": "B7ibRwp7z7pY"
      },
      "source": [
        "\n",
        "**Import the QuietDonSentenceLenghts data and calculate the sample mean and standard deviation.**"
      ]
    },
    {
      "cell_type": "code",
      "metadata": {
        "id": "2-vbN95wz7pY",
        "outputId": "69af491b-8bdc-41f1-ad9b-46c9ef26a58f"
      },
      "source": [
        "QuietDonSentenceLenghts = pd.read_csv(\"QuietDonSentenceLenghts.csv\", header=None)\n",
        "\n",
        "x = QuietDonSentenceLenghts.loc[:,0].values # Create an array\n",
        "\n",
        "QuietDonSentenceLenghts.head()"
      ],
      "execution_count": null,
      "outputs": [
        {
          "data": {
            "text/html": [
              "<div>\n",
              "<style scoped>\n",
              "    .dataframe tbody tr th:only-of-type {\n",
              "        vertical-align: middle;\n",
              "    }\n",
              "\n",
              "    .dataframe tbody tr th {\n",
              "        vertical-align: top;\n",
              "    }\n",
              "\n",
              "    .dataframe thead th {\n",
              "        text-align: right;\n",
              "    }\n",
              "</style>\n",
              "<table border=\"1\" class=\"dataframe\">\n",
              "  <thead>\n",
              "    <tr style=\"text-align: right;\">\n",
              "      <th></th>\n",
              "      <th>0</th>\n",
              "    </tr>\n",
              "  </thead>\n",
              "  <tbody>\n",
              "    <tr>\n",
              "      <th>0</th>\n",
              "      <td>6</td>\n",
              "    </tr>\n",
              "    <tr>\n",
              "      <th>1</th>\n",
              "      <td>25</td>\n",
              "    </tr>\n",
              "    <tr>\n",
              "      <th>2</th>\n",
              "      <td>12</td>\n",
              "    </tr>\n",
              "    <tr>\n",
              "      <th>3</th>\n",
              "      <td>10</td>\n",
              "    </tr>\n",
              "    <tr>\n",
              "      <th>4</th>\n",
              "      <td>16</td>\n",
              "    </tr>\n",
              "  </tbody>\n",
              "</table>\n",
              "</div>"
            ],
            "text/plain": [
              "    0\n",
              "0   6\n",
              "1  25\n",
              "2  12\n",
              "3  10\n",
              "4  16"
            ]
          },
          "execution_count": 2,
          "metadata": {},
          "output_type": "execute_result"
        }
      ]
    },
    {
      "cell_type": "markdown",
      "metadata": {
        "id": "TzbMU1e-z7pZ"
      },
      "source": [
        "We have have created a new variable x that contains the regressor coloumn Sentence Lengths for our analysis"
      ]
    },
    {
      "cell_type": "code",
      "metadata": {
        "id": "yd5LiMDHz7pa",
        "outputId": "644e0b6b-78db-4eae-e130-c6de94969baf"
      },
      "source": [
        "mu = np.mean(QuietDonSentenceLenghts.loc[:,0])           # sample mean\n",
        "sigma_hat = np.std(QuietDonSentenceLenghts.loc[:,0], ddof=1) # sample standard deviation\n",
        " \n",
        "print('Sample mean mu_hat:', mu)\n",
        "print('Sample standard deviation sigma_hat:', sigma_hat)"
      ],
      "execution_count": null,
      "outputs": [
        {
          "name": "stdout",
          "output_type": "stream",
          "text": [
            "Sample mean mu_hat: 12.67313829787234\n",
            "Sample standard deviation sigma_hat: 9.124034996812505\n"
          ]
        }
      ]
    },
    {
      "cell_type": "markdown",
      "metadata": {
        "id": "JzM6uiwdz7pa"
      },
      "source": [
        "#### A histogram of the values within the QuietDonSentenceLenghts data"
      ]
    },
    {
      "cell_type": "code",
      "metadata": {
        "scrolled": true,
        "id": "NKoB5PyOz7pb",
        "outputId": "d2941c53-c607-4a33-c457-ac1a3065eb04"
      },
      "source": [
        "plt.title(\"Histogram\")\n",
        "plt.xlabel(\"Sentence Length\")\n",
        "plt.ylabel(\"Frequency\")\n",
        "plt.hist(QuietDonSentenceLenghts, 10) # 10 bins, each bin stands for an equal-distance range. Some range might not have a value though.\n",
        "plt.show()"
      ],
      "execution_count": null,
      "outputs": [
        {
          "data": {
            "image/png": "[encoded data removed]",
            "text/plain": [
              "<Figure size 432x288 with 1 Axes>"
            ]
          },
          "metadata": {
            "needs_background": "light"
          },
          "output_type": "display_data"
        }
      ]
    },
    {
      "cell_type": "markdown",
      "metadata": {
        "id": "fa0Fzxnfz7pc"
      },
      "source": [
        "\n",
        "### Fitting a Poisson distribution to the sentence length data\n",
        "\n",
        "Definition of the Poisson distribution, the probability mass function (pmf):\n",
        "\n",
        "$P[Y=y]= e^{−\\mu} \\frac{\\mu^y}{y!} $, where $\\mu$ is the parameter. \n",
        "\n",
        "In practice, however, the dependent variable ($y$) is usually modelled as a function of explanatory variables $x_1, \\cdots, x_m$. Hence, the distribution of $y$ needs to be conditioned on the vector of explanatory variables $x_1, \\cdots, x_m$.\n",
        "\n",
        "$P(Y=y\\mid x_1, \\cdots, x_m)= \\frac{\\mu^y}{y!} e^{−\\mu}$\n",
        "where $\\mu= \\exp(\\beta_0+ \\beta_1 x_1+\\cdots +\\beta_m x_m)$\n",
        "\n",
        "[Note that statsmodels does *not* simply use $\\beta_0+ \\beta_1 x_1+\\cdots +\\beta_m x_m$, but $\\exp(\\beta_0+ \\beta_1 x_1+\\cdots +\\beta_m x_m)$!]\n",
        "\n",
        "In this case, $\\beta_0, \\beta_1, \\cdots, \\beta_m$ are the parameters of the model.\n",
        "\n",
        "Namely, for this small dataset, we have 3760 **observations** and 1 **explanatory variable** (or **regressor**): $x_0$. For our data we only need to use a very simple version, namely, there is only a constant term $\\beta_0$ (i.e., no $\\beta_1$, $\\beta_2$, $x_1, x_2$)."
      ]
    },
    {
      "cell_type": "code",
      "metadata": {
        "id": "XeiJqw7Vz7pd",
        "outputId": "6277110f-a01d-4648-ca49-e133917824c8"
      },
      "source": [
        "from statsmodels.api import Poisson\n",
        "\n",
        "X = np.ones_like(x)\n",
        "\n",
        "PoissonDistribution = sm.Poisson(x,X).fit()\n",
        "\n",
        "print(PoissonDistribution.summary(()))\n",
        "print('AIC: ', PoissonDistribution.aic)\n",
        "print('Exponentional of Parameters: ', np.exp(PoissonDistribution.params))"
      ],
      "execution_count": null,
      "outputs": [
        {
          "name": "stdout",
          "output_type": "stream",
          "text": [
            "Optimization terminated successfully.\n",
            "         Current function value: 4.947456\n",
            "         Iterations 1\n",
            "                          Poisson Regression Results                          \n",
            "==============================================================================\n",
            "Dep. Variable:                     ()   No. Observations:                 3760\n",
            "Model:                        Poisson   Df Residuals:                     3759\n",
            "Method:                           MLE   Df Model:                            0\n",
            "Date:                Tue, 05 Jan 2021   Pseudo R-squ.:                   0.000\n",
            "Time:                        11:32:10   Log-Likelihood:                -18602.\n",
            "converged:                       True   LL-Null:                       -18602.\n",
            "Covariance Type:            nonrobust   LLR p-value:                       nan\n",
            "==============================================================================\n",
            "                 coef    std err          z      P>|z|      [0.025      0.975]\n",
            "------------------------------------------------------------------------------\n",
            "const          2.5395      0.005    554.347      0.000       2.531       2.548\n",
            "==============================================================================\n",
            "AIC:  37206.86706437265\n",
            "Exponentional of Parameters:  [12.6731383]\n"
          ]
        }
      ]
    },
    {
      "cell_type": "markdown",
      "metadata": {
        "id": "m-LlQKrZz7pd"
      },
      "source": [
        "We can see see that MLE returns that $\\beta_0=2.5395$.\n",
        "\n",
        "The notation for our Poisson distribution:\n",
        "$$\\mathcal{Pois}(\\lambda) = \\mathcal{Pois}(12.6731383) $$"
      ]
    },
    {
      "cell_type": "code",
      "metadata": {
        "id": "pQa8Rtroz7pd",
        "outputId": "5bd9289f-1018-4b39-ab2c-3ee1ba833c33"
      },
      "source": [
        "PoissonDistribution.predict()"
      ],
      "execution_count": null,
      "outputs": [
        {
          "data": {
            "text/plain": [
              "array([12.6731383, 12.6731383, 12.6731383, ..., 12.6731383, 12.6731383,\n",
              "       12.6731383])"
            ]
          },
          "execution_count": 6,
          "metadata": {},
          "output_type": "execute_result"
        }
      ]
    },
    {
      "cell_type": "markdown",
      "metadata": {
        "id": "3HPjUGe-z7pe"
      },
      "source": [
        "#### Using a library function we can perform maximisation."
      ]
    },
    {
      "cell_type": "code",
      "metadata": {
        "id": "EdSsCCjQz7pe"
      },
      "source": [
        "from scipy.stats import poisson\n",
        "from scipy.optimize import minimize\n",
        "\n",
        "def PoissonSentence(mu):\n",
        "    l = poisson.logpmf(x, mu)\n",
        "    return -np.sum(l)"
      ],
      "execution_count": null,
      "outputs": []
    },
    {
      "cell_type": "code",
      "metadata": {
        "id": "B1U5CXK4z7pe",
        "outputId": "9e8e872b-6bd4-4480-c282-c6ef203365f2"
      },
      "source": [
        "minimize(PoissonSentence,5).x"
      ],
      "execution_count": null,
      "outputs": [
        {
          "data": {
            "text/plain": [
              "array([12.67314125])"
            ]
          },
          "execution_count": 8,
          "metadata": {},
          "output_type": "execute_result"
        }
      ]
    },
    {
      "cell_type": "markdown",
      "metadata": {
        "id": "BadEe5P9z7pe"
      },
      "source": [
        "### Fitting a Negative binomial distribution to the sentence length data\n",
        "\n",
        "Consider a **negative binomial regression model** for count data with log-likelihood (type NB-2) function expressed as:\n",
        "\n",
        "$$\\mathcal{L}(\\beta_j; y, \\alpha) = \\sum_{i=1}^n y_i ln\n",
        "\\left ( \\frac{\\alpha exp(X_i^T\\beta)}{1+\\alpha exp(X_i'\\beta)} \\right ) -\n",
        "\\frac{1}{\\alpha} ln(1+\\alpha exp(X_i^T\\beta)) + ln \\Gamma (y_i + 1/\\alpha) - ln \\Gamma (y_i+1) - ln \\Gamma (1/\\alpha)$$\n",
        "\n",
        "with a matrix of regressors 𝑋, a vector of coefficients $\\beta$, and the negative binomial heterogeneity parameter $\\alpha$."
      ]
    },
    {
      "cell_type": "code",
      "metadata": {
        "scrolled": true,
        "id": "694n7QNsz7pf",
        "outputId": "1c04a4f6-b7cc-4f3d-dc60-f8244e5373fa"
      },
      "source": [
        "from statsmodels.discrete.discrete_model import NegativeBinomial\n",
        "\n",
        "X = np.ones_like(x)\n",
        "\n",
        "NBDistribution = sm.NegativeBinomial(x, X).fit()\n",
        "print(NBDistribution.summary())\n",
        "print('AIC: ', NBDistribution.aic)"
      ],
      "execution_count": null,
      "outputs": [
        {
          "name": "stdout",
          "output_type": "stream",
          "text": [
            "Optimization terminated successfully.\n",
            "         Current function value: 3.417881\n",
            "         Iterations: 4\n",
            "         Function evaluations: 5\n",
            "         Gradient evaluations: 5\n",
            "                     NegativeBinomial Regression Results                      \n",
            "==============================================================================\n",
            "Dep. Variable:                      y   No. Observations:                 3760\n",
            "Model:               NegativeBinomial   Df Residuals:                     3759\n",
            "Method:                           MLE   Df Model:                            0\n",
            "Date:                Tue, 05 Jan 2021   Pseudo R-squ.:              -1.942e-12\n",
            "Time:                        11:32:10   Log-Likelihood:                -12851.\n",
            "converged:                       True   LL-Null:                       -12851.\n",
            "Covariance Type:            nonrobust   LLR p-value:                       nan\n",
            "==============================================================================\n",
            "                 coef    std err          z      P>|z|      [0.025      0.975]\n",
            "------------------------------------------------------------------------------\n",
            "const          2.5395      0.011    230.979      0.000       2.518       2.561\n",
            "alpha          0.3756      0.010     36.527      0.000       0.355       0.396\n",
            "==============================================================================\n",
            "AIC:  25706.463131632012\n"
          ]
        }
      ]
    },
    {
      "cell_type": "markdown",
      "metadata": {
        "id": "BH2NFi8bz7pf"
      },
      "source": [
        "We can see that the MLE returns the $\\beta_0=2.5395$ and $\\alpha=0.3756$.\n",
        "\n",
        "The notation for our Negative Binomial distribution: \n",
        "$$ r = \\frac{1}{\\alpha} => r = \\frac{1}{0.3756} => r = 2.6624 $$  \n",
        "\n",
        "$$ p = \\frac{r}{\\mu} => p = \\frac{2.6624}{12.6731} => p = 0.21 $$\n",
        "\n",
        "$$ \\mathcal{NB}(r|p) = \\mathcal{NB}(2.6624 | 0.21) $$"
      ]
    },
    {
      "cell_type": "code",
      "metadata": {
        "id": "seQuGhg7z7pg",
        "outputId": "a4ae6420-3413-47f0-f351-5c62f115d135"
      },
      "source": [
        "NBDistribution.predict()"
      ],
      "execution_count": null,
      "outputs": [
        {
          "data": {
            "text/plain": [
              "array([12.6731383, 12.6731383, 12.6731383, ..., 12.6731383, 12.6731383,\n",
              "       12.6731383])"
            ]
          },
          "execution_count": 10,
          "metadata": {},
          "output_type": "execute_result"
        }
      ]
    },
    {
      "cell_type": "markdown",
      "metadata": {
        "id": "el2wjjERz7pg"
      },
      "source": [
        "### Explain the key concepts of maximum likelihood inference and how these are implemented in your code.\n",
        "\n",
        "Maximum likelihood aims to estimate parameters that maximise the logarithm of the likelihood of the model given observations\n",
        "\n",
        "$$\\mathcal{L}(\\theta|x) = \\mathcal{p}(x|\\theta) = f(x_1;\\theta)*,...,*f(x_n;\\theta) $$\n",
        "\n",
        "* for continuous RVs, f(x;$\\theta$) is the probability density function (pdf)\n",
        "* for discrete RVs, f(x;$\\theta$) is the probability mass function (pmf)\n",
        "* Note: the likelihood function follows from iid samples and joint distributions\n",
        "\n",
        "It chooses the parameter that provides the largest value of the likelihood function (this value serves as the estimate of the parameter).\n",
        "\n",
        "General Steps:\n",
        "* Specifying the likelihood function (in terms of the parameters to be estimated)\n",
        "* Maximising the likelihood function\n",
        "\n",
        "#### Limitations of MLE\n",
        "* Nonexistence of an MLE\n",
        "    * e.g., when applying MLE to some variance of uniform distribution\n",
        "    \n",
        "* Non-uniqueness of an MLE\n",
        "    * e.g., when applying MLE to a mixture of two distributions\n",
        "    \n",
        "* The value of $\\theta$ that maximises the pdf of the data given $\\theta$ is the value of $\\theta$ that assigned the highest probability to seeing the observed data.\n",
        "    * Not necessarily the value of the parameter that appears to be most likely given to the data.\n",
        "    \n",
        "#### Application in the code\n",
        "For both applications of Poisson and Negative Binomial to the data the *fit()* function is used to find the maximum likelihood estimate, which is then displayed within a summary."
      ]
    },
    {
      "cell_type": "markdown",
      "metadata": {
        "id": "rHybEvZzz7pg"
      },
      "source": [
        "### Compare how well the two distributions fit the data and discuss the results.\n",
        "#### The Akaike Information Criterion (AIC)\n",
        "\n",
        "The Akaike Information Criterion (AIC) was created by statistician Hirotugu Akaike and gives a measure of the relative fit of several statistical models to data. It can be used to select which model best represents the data. A model with a smaller value of AIC is considered better.\n",
        "The AIC is calculated as:\n",
        "\n",
        "$$ AIC = 2k - 2logL(\\hat{\\theta}|x)$$\n",
        "\n",
        "where x is the observed data, k is the number of parameters in the model, $\\hat{\\theta}$ is the maximum likelihood estimate (MLE) of the parameters and $L(\\hat{\\theta}|x)$ is the likelihood of the model.\n",
        "\n",
        "From the Poisson distribution summary output it is possible to see that the AIC value is: 37206.8670, whereas from the Negative Binomial summary output it is possible to see that the AIC value is: 25706.4631. This suggests that the Negative Binomial distribution fits the data better.\n",
        "\n",
        "\n",
        "#### p-value\n",
        "The p-value is a measure of the evidence for rejecting $H_0$.\n",
        "\n",
        "   * p-value: P(data at least as extreme as the test statistic | $H_0$ )\n",
        "   \n",
        "Parameters from both tests are very significant as the p value < 0.001. This suggests that both distributions are a good fit for the data. Although this is likely because the data consists of only one column.\n",
        "\n",
        "\n",
        "#### Some other notes:\n",
        "- Both distributions show no improvement or decline in Log-Likelihood between the null model and the fitted model.\n",
        "\n",
        "- Standard error is higher for Negative Binomial constant value. This could suggest a slightly worse fit for $B_0$."
      ]
    },
    {
      "cell_type": "markdown",
      "metadata": {
        "id": "w2D0lcimz7ph"
      },
      "source": [
        "**• Produce plots where necessary to illustrate your results.**"
      ]
    },
    {
      "cell_type": "code",
      "metadata": {
        "id": "ZqPXQtOwz7ph",
        "outputId": "b4afc792-13ef-4aea-a670-97364302c3c6"
      },
      "source": [
        "from matplotlib import pyplot as plt\n",
        "from scipy.stats import poisson\n",
        "from scipy.stats import nbinom\n",
        "\n",
        "\n",
        "y_values = range(0, 25)\n",
        "\n",
        "fig, ax = plt.subplots(figsize=(12, 8))\n",
        "\n",
        "distribution = []\n",
        "for y_i in y_values:\n",
        "    distribution.append(ss.poisson(mu).pmf(y_i))\n",
        "ax.plot(y_values,\n",
        "        distribution,\n",
        "        label=f'Poisson, $\\mu$={mu}',\n",
        "        alpha=0.5,\n",
        "        marker='o',\n",
        "        markersize=8)\n",
        "\n",
        "r = 2.6624\n",
        "p = 0.21\n",
        "distribution = []\n",
        "for y_i in y_values:\n",
        "    distribution.append(ss.nbinom(r,p).pmf(y_i))\n",
        "ax.plot(y_values,\n",
        "        distribution,\n",
        "        label=f'Negative Binomial, r={r}, p={p}',\n",
        "        alpha=0.5,\n",
        "        marker='o',\n",
        "        markersize=8)\n",
        "\n",
        "\n",
        "ax.grid()\n",
        "ax.set_xlabel('$y$', fontsize=14)\n",
        "ax.set_ylabel('$f(\\mu)$', fontsize=14)\n",
        "ax.axis(xmin=0, ymin=0)\n",
        "ax.legend(fontsize=14)\n",
        "\n",
        "plt.show()"
      ],
      "execution_count": null,
      "outputs": [
        {
          "data": {
            "image/png": "[encoded data removed]",
            "text/plain": [
              "<Figure size 864x576 with 1 Axes>"
            ]
          },
          "metadata": {
            "needs_background": "light"
          },
          "output_type": "display_data"
        }
      ]
    },
    {
      "cell_type": "markdown",
      "metadata": {
        "id": "Msc3jhdgz7ph"
      },
      "source": [
        "#### Conclusions from the graph\n",
        "From the plot it is clear to see that the Negative Binomial distribution matches the distribution of the data displayed in the histogram at the beginning of the task better than the poisson distribution."
      ]
    },
    {
      "cell_type": "markdown",
      "metadata": {
        "id": "WtjW0sN-z7ph"
      },
      "source": [
        "## MAP Inference (Maximum a posteriori estimation)\n",
        "\n",
        "**• Fit a Poisson distribution to the sentence length data using MAP estimation,\n",
        "with a Gamma distribution prior on the parameter of the Poisson distribution,\n",
        "where the Gamma distribution has shape 4.0 and scale 0.1.**\n",
        "\n",
        "Rather than aiming to maximise the likelihood alone, MAP inference aims to find parameters that maximise the posterior. We can also choose to display prior data for $\\mu$ (mu).\n"
      ]
    },
    {
      "cell_type": "markdown",
      "metadata": {
        "id": "EKGfWUNIz7ph"
      },
      "source": [
        "#### Plot of a gamma distribution for parameters a = 4 and b = 0.1"
      ]
    },
    {
      "cell_type": "code",
      "metadata": {
        "scrolled": true,
        "id": "dylZ5dIjz7pi",
        "outputId": "553a3007-0a18-4e4e-fd55-dbdee7d6fe73"
      },
      "source": [
        "from scipy.stats import poisson\n",
        "from scipy.stats import gamma\n",
        "from scipy.optimize import minimize\n",
        "\n",
        "shape = 4\n",
        "scale = 0.1\n",
        "\n",
        "mus = np.linspace(-20,20,1000)\n",
        "\n",
        "ys = gamma.pdf(mus,shape,scale)\n",
        "plt.plot(mus,ys)\n",
        "np.sum(ys)"
      ],
      "execution_count": null,
      "outputs": [
        {
          "data": {
            "text/plain": [
              "24.97491439994455"
            ]
          },
          "execution_count": 12,
          "metadata": {},
          "output_type": "execute_result"
        },
        {
          "data": {
            "image/png": "[encoded data removed]",
            "text/plain": [
              "<Figure size 432x288 with 1 Axes>"
            ]
          },
          "metadata": {
            "needs_background": "light"
          },
          "output_type": "display_data"
        }
      ]
    },
    {
      "cell_type": "markdown",
      "metadata": {
        "id": "tocP7gaLz7pi"
      },
      "source": [
        "We can use a function to return the negative logarithm of the posterior, by adding the prior density of  𝜇  to the log likelihood. This will be calculating:\n",
        "\n",
        "$\\log p(\\mu|x,\\sigma) \\propto \\left(\\sum_i \\log p(x_i|\\mu,\\sigma)\\right) + \\log p(\\mu)$\n",
        "\n",
        "(since we are assuming we know $\\sigma$, there is no prior on $\\sigma$.)\n",
        "\n",
        "We use the 'log-likelihood' in our code as the product is difficult to manipulate."
      ]
    },
    {
      "cell_type": "markdown",
      "metadata": {
        "id": "DF13IsTWz7pj"
      },
      "source": [
        "#### Create a function to fit a Poisson distribution with the Gamma distribution prior"
      ]
    },
    {
      "cell_type": "code",
      "metadata": {
        "id": "BYHum_Cwz7pj"
      },
      "source": [
        "def nlposterior(mu):\n",
        "    loglikelihood_array = poisson.logpmf(x, mu)\n",
        "    loglikelihood = np.sum(loglikelihood_array)\n",
        "    prior = gamma.logpdf(mu,shape,scale)\n",
        "    return -(loglikelihood+prior)"
      ],
      "execution_count": null,
      "outputs": []
    },
    {
      "cell_type": "code",
      "metadata": {
        "id": "JUQYUiq4z7pj",
        "outputId": "579e6ca0-998b-4a0e-99d5-84c9efc1626b"
      },
      "source": [
        "minimize(nlposterior,5).x"
      ],
      "execution_count": null,
      "outputs": [
        {
          "data": {
            "text/plain": [
              "array([12.67057403])"
            ]
          },
          "execution_count": 14,
          "metadata": {},
          "output_type": "execute_result"
        }
      ]
    },
    {
      "cell_type": "markdown",
      "metadata": {
        "id": "2N5HhL4lz7pj"
      },
      "source": [
        "**• Explain the key concepts of MAP inference and how these are implemented in\n",
        "your code.**\n",
        "\n",
        "MAP inference aims to maximise the posterior density. Thus within our code we have use the probability density functions and probability mass functions of our the two selected distributions. \n",
        "\n",
        "Firstly the we find the log likelihood via the log poisson distribution of $\\mu$ given our data x. Then we are able to sum the log values together to find the product of the values. This is our log likelihood. Next we find the log gamma distribution around $\\mu$ given the parameters of the distribution; shape = 4 and scale = 0.1. Finally we can add the log likelihood with the log prior to return and return the output for the Poisson Distribution using MAP estimation."
      ]
    },
    {
      "cell_type": "markdown",
      "metadata": {
        "id": "ruTj1Dv6z7pj"
      },
      "source": [
        "#### Plot of MAP inference"
      ]
    },
    {
      "cell_type": "code",
      "metadata": {
        "id": "LjXOs6_Bz7pj",
        "outputId": "52011914-162e-496e-d2c7-43ec732bc803"
      },
      "source": [
        "mus = np.linspace(min(x),max(x),1000) \n",
        "\n",
        "ys = []\n",
        "for mu in mus:\n",
        "    ys.append(nlposterior(mu))\n",
        "\n",
        "plt.plot(mus,ys) \n",
        "\n",
        "ml_estimate = np.sum(x)/len(x)\n",
        "map_estimate = minimize(nlposterior,13).x\n",
        "\n",
        "plt.axvline(ml_estimate,color='red') # add a red vertical line at the ML estimate of mu\n",
        "plt.axvline(map_estimate,color='green') # add a green vertical line at the MAP estimate of mu\n",
        "mu = np.mean(QuietDonSentenceLenghts.loc[:,0]) "
      ],
      "execution_count": null,
      "outputs": [
        {
          "data": {
            "image/png": "[encoded data removed]",
            "text/plain": [
              "<Figure size 432x288 with 1 Axes>"
            ]
          },
          "metadata": {
            "needs_background": "light"
          },
          "output_type": "display_data"
        }
      ]
    },
    {
      "cell_type": "markdown",
      "metadata": {
        "id": "EwUshrf3z7pk"
      },
      "source": [
        "**• Discuss how the MAP fit is different from the maximum likelihood fit of the\n",
        "Poisson distribution and explain why.**"
      ]
    },
    {
      "cell_type": "markdown",
      "metadata": {
        "id": "H9lTVbwpz7pk"
      },
      "source": [
        "MAP looks to maximise the posterior rather than the likelihood. The only thing that differs is the inclusion of prior in MAP, otherwise they are identical. What this means is that, the likelihood is now weighted with some weight coming from the prior. Essentially MLE is a special case of MAP, where the prior is uniform.\n",
        "\n",
        "Likelihood: $L(0,x) = P(x|0)$   \n",
        "\n",
        "Posterior: $P(0|X)= P(x|0)P(0)$"
      ]
    },
    {
      "cell_type": "markdown",
      "metadata": {
        "id": "0UAlJZ7Sz7pk"
      },
      "source": [
        "## Task 2 – Classification and Validation"
      ]
    },
    {
      "cell_type": "markdown",
      "metadata": {
        "id": "GKQbGfHIz7pk"
      },
      "source": [
        "In a classifier, the outputs y that we wish to predict takes dicrete values in a finite range.\n",
        "- It may be that y is either 0 or 1, so that y $\\in$ 0,1. This is known as binary classification and is the classification we will be using in this case.\n",
        "- For any given input $x_i$, the output $y_i$ can only take one value."
      ]
    },
    {
      "cell_type": "markdown",
      "metadata": {
        "id": "6T5EMtetz7pk"
      },
      "source": [
        "### Load the ATLAS data and lables:\n",
        "#### Conduct some initial exploration"
      ]
    },
    {
      "cell_type": "code",
      "metadata": {
        "id": "sYE69CLGz7pk"
      },
      "source": [
        "import sklearn\n",
        "from sklearn.datasets import make_blobs\n",
        "from sklearn.preprocessing import scale\n",
        "from sklearn.naive_bayes import GaussianNB"
      ],
      "execution_count": null,
      "outputs": []
    },
    {
      "cell_type": "code",
      "metadata": {
        "id": "qsz9USLPz7pl",
        "outputId": "34e2e89c-f339-4bc6-a652-3f01e36dade9"
      },
      "source": [
        "X = np.loadtxt(\"ATLAS-data.csv\",delimiter=',')\n",
        "\n",
        "labels = np.loadtxt(\"ATLAS-labels.csv\",delimiter=',')\n",
        "\n",
        "X"
      ],
      "execution_count": null,
      "outputs": [
        {
          "data": {
            "text/plain": [
              "array([[243.128,  96.455, 158.618, ...,  -1.651,  -1.445, 157.638],\n",
              "       [139.751,  74.028, 111.619, ...,  -1.849,   0.664,  68.614],\n",
              "       [116.217,  73.136,  59.239, ...,   1.442,  -2.288, 140.669],\n",
              "       ...,\n",
              "       [131.185,  25.942, 101.981, ...,   0.459,  -0.292, 172.392],\n",
              "       [142.063,  27.807, 114.4  , ...,   2.913,   0.296, 118.251],\n",
              "       [ 87.491,  21.139,  65.681, ...,   0.289,   2.719, 266.893]])"
            ]
          },
          "execution_count": 17,
          "metadata": {},
          "output_type": "execute_result"
        }
      ]
    },
    {
      "cell_type": "code",
      "metadata": {
        "id": "YIZAp5snz7pl",
        "outputId": "f24534a0-d5b7-4762-9561-72455f297dbd"
      },
      "source": [
        "labels"
      ],
      "execution_count": null,
      "outputs": [
        {
          "data": {
            "text/plain": [
              "array([0., 0., 0., ..., 1., 1., 0.])"
            ]
          },
          "execution_count": 18,
          "metadata": {},
          "output_type": "execute_result"
        }
      ]
    },
    {
      "cell_type": "markdown",
      "metadata": {
        "id": "Pqu7TGbUz7pl"
      },
      "source": [
        "#### Plot of the data points for the first two colums in relation to the labels data"
      ]
    },
    {
      "cell_type": "code",
      "metadata": {
        "id": "6VbcZMVGz7pl",
        "outputId": "93cdb4d8-c320-4528-a9e4-fb1069865848"
      },
      "source": [
        "plt.scatter(X[:,0],X[:,1],c=labels)"
      ],
      "execution_count": null,
      "outputs": [
        {
          "data": {
            "text/plain": [
              "<matplotlib.collections.PathCollection at 0x1d64ab26ca0>"
            ]
          },
          "execution_count": 19,
          "metadata": {},
          "output_type": "execute_result"
        },
        {
          "data": {
            "image/png": "[encoded data removed]",
            "text/plain": [
              "<Figure size 432x288 with 1 Axes>"
            ]
          },
          "metadata": {
            "needs_background": "light"
          },
          "output_type": "display_data"
        }
      ]
    },
    {
      "cell_type": "markdown",
      "metadata": {
        "id": "04hIEDgAz7pl"
      },
      "source": [
        "#### Plot of the scaled data points for the first two colums in relation to the labels data\n",
        "It is good practice to scale continuous data so that it has a mean of 0 and a standard deviation of 1."
      ]
    },
    {
      "cell_type": "code",
      "metadata": {
        "id": "EhaPBacjz7pl",
        "outputId": "28c9a7e9-4ca2-4430-e3dc-7aaa8e51e5ce"
      },
      "source": [
        "X_scaled = sklearn.preprocessing.scale(X)\n",
        "plt.scatter(X_scaled[:,0],X_scaled[:,1],c=labels)"
      ],
      "execution_count": null,
      "outputs": [
        {
          "data": {
            "text/plain": [
              "<matplotlib.collections.PathCollection at 0x1d64ac5b280>"
            ]
          },
          "execution_count": 20,
          "metadata": {},
          "output_type": "execute_result"
        },
        {
          "data": {
            "image/png": "[encoded data removed]",
            "text/plain": [
              "<Figure size 432x288 with 1 Axes>"
            ]
          },
          "metadata": {
            "needs_background": "light"
          },
          "output_type": "display_data"
        }
      ]
    },
    {
      "cell_type": "markdown",
      "metadata": {
        "id": "WrMJbdcDz7pm"
      },
      "source": [
        "### Naive Bayes Classifier\n",
        "\n",
        "Naive Bayes is an application of Bayes rule to perform classification of data points with an assumption of independence among predictors. The aim is assign each data point to a class c based on its properties.\n",
        "\n",
        "To do this we use:\n",
        "* $p(c_k)$, the **prior** probability of a data point belonging to class k.\n",
        "* $p(x_i | c_k)$, the likelihood of data point i assuming that it belongs to class k.\n",
        "\n",
        "Naive Bayes assumes that each variable, $x_{i1}, x_{i2},...,x_{ip}$, is independant of the others, given a classification.\n",
        "This means that:\n",
        "\n",
        "$$p(x_{i1}, x_{i2},...,x_{ip}|c_k) = \\prod^{p}_{j=1}p(x_{i,j}|c_k)$$\n",
        "\n",
        "\n",
        "#### Naive Bayes Function\n",
        "\n",
        "$$\\mathcal{p}(c_k|x_i) = \\frac{{p}(x_i|c_k){p}(c_k)}{{p}(x_i)} $$\n",
        "\n",
        "#### Properties of Naive Bayes\n",
        "* Predicting variables must be independent on each other. Which is almost impossible in real life.\n",
        "* Provides a way of calculating posterior probability $P(c|x)$.\n",
        "* Performs well with categorical input variables compared to numerical variables. For numerical variables, normal distribution is assumed."
      ]
    },
    {
      "cell_type": "code",
      "metadata": {
        "id": "pS_-S2tWz7pm"
      },
      "source": [
        "nbclassifier = GaussianNB() # create our Naive Bayes model"
      ],
      "execution_count": null,
      "outputs": []
    },
    {
      "cell_type": "code",
      "metadata": {
        "id": "O5TkJ1Cnz7pm",
        "outputId": "e544e273-1270-46b4-8f9c-d36464ef2a9c"
      },
      "source": [
        "nbclassifier.fit(X_scaled,labels)"
      ],
      "execution_count": null,
      "outputs": [
        {
          "data": {
            "text/plain": [
              "GaussianNB()"
            ]
          },
          "execution_count": 22,
          "metadata": {},
          "output_type": "execute_result"
        }
      ]
    },
    {
      "cell_type": "markdown",
      "metadata": {
        "id": "-HUfBa8vz7pm"
      },
      "source": [
        "#### Naive Bayes Classifier with K-Fold split"
      ]
    },
    {
      "cell_type": "code",
      "metadata": {
        "id": "suXWExtHz7pm",
        "outputId": "9512c84c-bd28-4099-9a89-a45768b72b82"
      },
      "source": [
        "from sklearn.model_selection import KFold, cross_val_score\n",
        "k_fold = KFold(n_splits=5)\n",
        "for train_indices, test_indices in k_fold.split(X_scaled,labels):\n",
        "    print('Train: %s | test: %s' % (train_indices, test_indices))"
      ],
      "execution_count": null,
      "outputs": [
        {
          "name": "stdout",
          "output_type": "stream",
          "text": [
            "Train: [2000 2001 2002 ... 9997 9998 9999] | test: [   0    1    2 ... 1997 1998 1999]\n",
            "Train: [   0    1    2 ... 9997 9998 9999] | test: [2000 2001 2002 ... 3997 3998 3999]\n",
            "Train: [   0    1    2 ... 9997 9998 9999] | test: [4000 4001 4002 ... 5997 5998 5999]\n",
            "Train: [   0    1    2 ... 9997 9998 9999] | test: [6000 6001 6002 ... 7997 7998 7999]\n",
            "Train: [   0    1    2 ... 7997 7998 7999] | test: [8000 8001 8002 ... 9997 9998 9999]\n"
          ]
        }
      ]
    },
    {
      "cell_type": "code",
      "metadata": {
        "id": "_VdkVjynz7pm",
        "outputId": "85335370-e7ec-45a9-e0a8-e23780334184"
      },
      "source": [
        "[nbclassifier.fit(X_scaled[train], labels[train]).score(X_scaled[test], labels[test])\n",
        "    for train, test in k_fold.split(X_scaled)]  "
      ],
      "execution_count": null,
      "outputs": [
        {
          "data": {
            "text/plain": [
              "[0.7515, 0.75, 0.741, 0.743, 0.7505]"
            ]
          },
          "execution_count": 24,
          "metadata": {},
          "output_type": "execute_result"
        }
      ]
    },
    {
      "cell_type": "markdown",
      "metadata": {
        "id": "f0IEWXXtz7pm"
      },
      "source": [
        "##### Another way of running K-fold Naive Bayes"
      ]
    },
    {
      "cell_type": "code",
      "metadata": {
        "id": "ZVA0xvgRz7pm",
        "outputId": "f56783c3-5b4c-423e-df71-67611fa57800"
      },
      "source": [
        "# KFold cross-validation split for confusion matrix\n",
        "\n",
        "X_folds = np.array_split(X_scaled, 5)\n",
        "y_folds = np.array_split(labels, 5)\n",
        "scores = list()\n",
        "for k in range(5):\n",
        "    # We use 'list' to cop, in order to 'pop' later on\n",
        "    X_train = list(X_folds)\n",
        "    X_test = X_train.pop(k)\n",
        "    X_train = np.concatenate(X_train)\n",
        "    y_train = list(y_folds)\n",
        "    y_test = y_train.pop(k)\n",
        "    y_train = np.concatenate(y_train)\n",
        "    scores.append(nbclassifier.fit(X_train, y_train).score(X_test, y_test))\n",
        "print(scores)"
      ],
      "execution_count": null,
      "outputs": [
        {
          "name": "stdout",
          "output_type": "stream",
          "text": [
            "[0.7515, 0.75, 0.741, 0.743, 0.7505]\n"
          ]
        }
      ]
    },
    {
      "cell_type": "markdown",
      "metadata": {
        "id": "_a8Otj21z7pn"
      },
      "source": [
        "* Note that both methods generated the same output."
      ]
    },
    {
      "cell_type": "markdown",
      "metadata": {
        "id": "FoQWjNsLz7pn"
      },
      "source": [
        "#### Cross validation score"
      ]
    },
    {
      "cell_type": "code",
      "metadata": {
        "id": "R5mUIb4sz7pn",
        "outputId": "e0ba69c7-0bf8-4c51-f7b4-7cd157683bd0"
      },
      "source": [
        "cross_val_score(nbclassifier, X_scaled, labels, cv=k_fold, n_jobs=-1)"
      ],
      "execution_count": null,
      "outputs": [
        {
          "data": {
            "text/plain": [
              "array([0.7515, 0.75  , 0.741 , 0.743 , 0.7505])"
            ]
          },
          "execution_count": 26,
          "metadata": {},
          "output_type": "execute_result"
        }
      ]
    },
    {
      "cell_type": "markdown",
      "metadata": {
        "id": "Wzo1C8otz7pn"
      },
      "source": [
        "#### Confusion Matrix"
      ]
    },
    {
      "cell_type": "code",
      "metadata": {
        "id": "5541ekwcz7pn",
        "outputId": "1b6495c0-1ce6-4a65-8a03-db09fc713a6b"
      },
      "source": [
        "from sklearn.model_selection import cross_val_predict\n",
        "from sklearn.metrics import confusion_matrix\n",
        "\n",
        "labels_pred = cross_val_predict(nbclassifier, X_scaled, labels, cv=k_fold)\n",
        "conf_matrix = confusion_matrix(labels, labels_pred)\n",
        "\n",
        "class_names=[0,1] # name  of classes\n",
        "fig, ax = plt.subplots()\n",
        "tick_marks = np.arange(len(class_names))\n",
        "plt.xticks(tick_marks, class_names)\n",
        "plt.yticks(tick_marks, class_names)\n",
        "\n",
        "# create heatmap\n",
        "labels_pred = nbclassifier.predict(X_test)\n",
        "sns.heatmap(conf_matrix, annot=True, fmt='g')\n",
        "ax.xaxis.set_label_position(\"top\")\n",
        "plt.tight_layout()\n",
        "plt.title('Confusion matrix', y=1.1)\n",
        "plt.ylabel('Actual label')\n",
        "plt.xlabel('Predicted label')"
      ],
      "execution_count": null,
      "outputs": [
        {
          "data": {
            "text/plain": [
              "Text(0.5, 257.44, 'Predicted label')"
            ]
          },
          "execution_count": 27,
          "metadata": {},
          "output_type": "execute_result"
        },
        {
          "data": {
            "image/png": "[encoded data removed]",
            "text/plain": [
              "<Figure size 432x288 with 2 Axes>"
            ]
          },
          "metadata": {
            "needs_background": "light"
          },
          "output_type": "display_data"
        }
      ]
    },
    {
      "cell_type": "code",
      "metadata": {
        "id": "ZAwP6zHBz7pn",
        "outputId": "0e632f0b-5f0f-4bd1-ea0d-c9ce2a416b9f"
      },
      "source": [
        "from sklearn import metrics\n",
        "print(\"Accuracy:\",metrics.accuracy_score(y_test, labels_pred))\n",
        "print(\"Precision:\",metrics.precision_score(y_test, labels_pred))\n",
        "print(\"Recall:\",metrics.recall_score(y_test, labels_pred))"
      ],
      "execution_count": null,
      "outputs": [
        {
          "name": "stdout",
          "output_type": "stream",
          "text": [
            "Accuracy: 0.7505\n",
            "Precision: 0.712776176753122\n",
            "Recall: 0.7876857749469215\n"
          ]
        }
      ]
    },
    {
      "cell_type": "markdown",
      "metadata": {
        "id": "m7Ud_ARxz7po"
      },
      "source": [
        "####  Explanation of Naïve Bayes classification methods."
      ]
    },
    {
      "cell_type": "markdown",
      "metadata": {
        "id": "9iWnmhBiz7po"
      },
      "source": [
        "### Logistic Regression Classifier\n",
        "Logistic Regression is a 'Statistical Learning' technique categorized in 'Supervised' Machine Learning (ML) methods dedicated to 'Classification' tasks. It is used to model the probability of a certain class or event existing such as pass/fail. Or in the case of our data: background or signal. This can be called the indicator variable.\n",
        "\n",
        "#### Properties of Logistic Regression\n",
        "\n",
        "* A regression model for binary data\n",
        "* The dependent variable follows a Bernoulli Distribution\n",
        "* Estimation is maximum likelihood estimation (MLE)\n",
        "\n",
        "\n",
        "#### Sigmoid  / Logistic Function\n",
        "* In logistic regression you are performing linear regression but applying a sigmoid function for the outcome:\n",
        "\n",
        "$$p =1 / 1 + e^{-y}$$\n",
        "\n",
        "#### Logistic Regression Model\n",
        "\n",
        "$$logit(px) = log(\\frac{px}{1-px}) = B_0 + B_1X$$\n"
      ]
    },
    {
      "cell_type": "code",
      "metadata": {
        "id": "astQJumtz7po"
      },
      "source": [
        "from sklearn.linear_model import LogisticRegression\n",
        "logreg = LogisticRegression(max_iter=10000)"
      ],
      "execution_count": null,
      "outputs": []
    },
    {
      "cell_type": "code",
      "metadata": {
        "id": "wvltdKr8z7po",
        "outputId": "d2db4775-a4e7-458a-9895-cbbef695843a"
      },
      "source": [
        "logreg.fit(X_scaled,labels)"
      ],
      "execution_count": null,
      "outputs": [
        {
          "data": {
            "text/plain": [
              "LogisticRegression(max_iter=10000)"
            ]
          },
          "execution_count": 30,
          "metadata": {},
          "output_type": "execute_result"
        }
      ]
    },
    {
      "cell_type": "markdown",
      "metadata": {
        "id": "4F12g8q3z7po"
      },
      "source": [
        "#### Logistic Regression Classifier with K-Fold split"
      ]
    },
    {
      "cell_type": "code",
      "metadata": {
        "id": "JhZsTBS_z7po",
        "outputId": "1964b0c8-b505-4569-90e6-2dc05e21f27d"
      },
      "source": [
        "from sklearn.model_selection import KFold, cross_val_score\n",
        "k_fold = KFold(n_splits=5)\n",
        "for train_indices, test_indices in k_fold.split(X_scaled,labels):\n",
        "    print('Train: %s | test: %s' % (train_indices, test_indices))"
      ],
      "execution_count": null,
      "outputs": [
        {
          "name": "stdout",
          "output_type": "stream",
          "text": [
            "Train: [2000 2001 2002 ... 9997 9998 9999] | test: [   0    1    2 ... 1997 1998 1999]\n",
            "Train: [   0    1    2 ... 9997 9998 9999] | test: [2000 2001 2002 ... 3997 3998 3999]\n",
            "Train: [   0    1    2 ... 9997 9998 9999] | test: [4000 4001 4002 ... 5997 5998 5999]\n",
            "Train: [   0    1    2 ... 9997 9998 9999] | test: [6000 6001 6002 ... 7997 7998 7999]\n",
            "Train: [   0    1    2 ... 7997 7998 7999] | test: [8000 8001 8002 ... 9997 9998 9999]\n"
          ]
        }
      ]
    },
    {
      "cell_type": "code",
      "metadata": {
        "id": "rV7rZsQJz7po",
        "outputId": "02945de0-a6e0-407f-9736-f2fa5e85e321"
      },
      "source": [
        "[logreg.fit(X_scaled[train], labels[train]).score(X_scaled[test], labels[test])\n",
        "    for train, test in k_fold.split(X_scaled)]  "
      ],
      "execution_count": null,
      "outputs": [
        {
          "data": {
            "text/plain": [
              "[0.749, 0.728, 0.72, 0.735, 0.7165]"
            ]
          },
          "execution_count": 32,
          "metadata": {},
          "output_type": "execute_result"
        }
      ]
    },
    {
      "cell_type": "markdown",
      "metadata": {
        "id": "HZ053LVIz7pp"
      },
      "source": [
        "##### Another way of running K-fold Logistic Regression"
      ]
    },
    {
      "cell_type": "code",
      "metadata": {
        "id": "eaOvouBkz7pp",
        "outputId": "904b0b5a-4d8f-452b-f62e-a86a106f4d60"
      },
      "source": [
        "# Another way of K-fold\n",
        "\n",
        "X_folds = np.array_split(X_scaled, 5)\n",
        "y_folds = np.array_split(labels, 5)\n",
        "scores = list()\n",
        "for k in range(5):\n",
        "    # We use 'list' to cop, in order to 'pop' later on\n",
        "    X_train = list(X_folds)\n",
        "    X_test = X_train.pop(k)\n",
        "    X_train = np.concatenate(X_train)\n",
        "    y_train = list(y_folds)\n",
        "    y_test = y_train.pop(k)\n",
        "    y_train = np.concatenate(y_train)\n",
        "    scores.append(logreg.fit(X_train, y_train).score(X_test, y_test))\n",
        "print(scores)"
      ],
      "execution_count": null,
      "outputs": [
        {
          "name": "stdout",
          "output_type": "stream",
          "text": [
            "[0.749, 0.728, 0.72, 0.735, 0.7165]\n"
          ]
        }
      ]
    },
    {
      "cell_type": "markdown",
      "metadata": {
        "id": "MiQV_DOVz7pp"
      },
      "source": [
        "* Note that both methods generated the same output."
      ]
    },
    {
      "cell_type": "markdown",
      "metadata": {
        "id": "iYlvZhQNz7pq"
      },
      "source": [
        "#### Cross validation score"
      ]
    },
    {
      "cell_type": "code",
      "metadata": {
        "id": "6m1D4WcMz7pq",
        "outputId": "b3f6035c-79e7-486c-d82a-d841516f656d"
      },
      "source": [
        "cross_val_score(logreg, X_scaled, labels, cv=k_fold, n_jobs=-1)"
      ],
      "execution_count": null,
      "outputs": [
        {
          "data": {
            "text/plain": [
              "array([0.749 , 0.728 , 0.72  , 0.735 , 0.7165])"
            ]
          },
          "execution_count": 34,
          "metadata": {},
          "output_type": "execute_result"
        }
      ]
    },
    {
      "cell_type": "markdown",
      "metadata": {
        "id": "oBTotg4Pz7pq"
      },
      "source": [
        "#### Confusion Matrix"
      ]
    },
    {
      "cell_type": "code",
      "metadata": {
        "id": "1Xs8lKxSz7pq",
        "outputId": "f97389c3-b9ad-4b5a-dd70-7e4aacfcb7bf"
      },
      "source": [
        "from sklearn.model_selection import cross_val_predict\n",
        "from sklearn.metrics import confusion_matrix\n",
        "\n",
        "labels_pred = cross_val_predict(logreg, X_scaled, labels, cv=k_fold)\n",
        "conf_matrix = confusion_matrix(labels, labels_pred)\n",
        "\n",
        "class_names=[0,1] # name  of classes\n",
        "fig, ax = plt.subplots()\n",
        "tick_marks = np.arange(len(class_names))\n",
        "plt.xticks(tick_marks, class_names)\n",
        "plt.yticks(tick_marks, class_names)\n",
        "\n",
        "# create heatmap\n",
        "labels_pred = logreg.predict(X_test)\n",
        "sns.heatmap(conf_matrix, annot=True, fmt='g')\n",
        "ax.xaxis.set_label_position(\"top\")\n",
        "plt.tight_layout()\n",
        "plt.title('Confusion matrix', y=1.1)\n",
        "plt.ylabel('Actual label')\n",
        "plt.xlabel('Predicted label')"
      ],
      "execution_count": null,
      "outputs": [
        {
          "data": {
            "text/plain": [
              "Text(0.5, 257.44, 'Predicted label')"
            ]
          },
          "execution_count": 35,
          "metadata": {},
          "output_type": "execute_result"
        },
        {
          "data": {
            "image/png": "[encoded data removed]",
            "text/plain": [
              "<Figure size 432x288 with 2 Axes>"
            ]
          },
          "metadata": {
            "needs_background": "light"
          },
          "output_type": "display_data"
        }
      ]
    },
    {
      "cell_type": "code",
      "metadata": {
        "id": "ulgWTzK4z7pq",
        "outputId": "0ea3fa3f-0072-42c0-eb0e-6d2659716c9d"
      },
      "source": [
        "from sklearn import metrics\n",
        "print(\"Accuracy:\",metrics.accuracy_score(y_test, labels_pred))\n",
        "print(\"Precision:\",metrics.precision_score(y_test, labels_pred))\n",
        "print(\"Recall:\",metrics.recall_score(y_test, labels_pred))"
      ],
      "execution_count": null,
      "outputs": [
        {
          "name": "stdout",
          "output_type": "stream",
          "text": [
            "Accuracy: 0.7165\n",
            "Precision: 0.7022653721682848\n",
            "Recall: 0.6910828025477707\n"
          ]
        }
      ]
    },
    {
      "cell_type": "markdown",
      "metadata": {
        "id": "cfrxzz8Vz7pq"
      },
      "source": [
        "### Explanation of Logistic Regression classification methods"
      ]
    },
    {
      "cell_type": "markdown",
      "metadata": {
        "id": "nj787k1Cz7pq"
      },
      "source": [
        "**- Application of scoring and validation methods to compare the performance Naïve Bayes and Logistic Regression for this classification task.**\n",
        "\n",
        "Evaluating a classifier means measuring how accurately our predicted labels match the actual labels in the evaluation set. For the common case of two distinct labels or classes (binary classification), we typically call the smaller and more interesting of the two classes as positive and the larger/other class as negative. In a spam classification problem, the spam would typically be positive and the ham (non-spam) would be negative. This labeling aims to ensure that identifying the positives is at least as hard as identifying the negatives, although often the test instances are selected so that the classes are of equal cardinality. There are four possible results of what the classification model could do on any given instance, which defines the confusion matrix or contingency table:\n",
        "\n",
        "• True Positives (TP): Here our classifier labels a positive item as positive, resulting in a win for the classifier. \n",
        "\n",
        "• True Negatives (TN): Here the classifier correctly determines that a mem- ber of the negative class deserves a negative label. Another win. \n",
        "\n",
        "• False Positives (FP): The classifier mistakenly calls a negative item as a positive, resulting in a “type I” classification error. \n",
        "\n",
        "• False Negatives (FN): The classifier mistakenly declares a positive item as negative, resulting in a “type II” classification error.\n",
        "\n",
        "#### Accuracy\n",
        "The accuracy is the ratio of correct predictions over total predictions:\n",
        "\n",
        "$$accuracy = \\frac{TP + TN}{TP + TN + FN + FP}$$\n",
        "\n",
        "#### Precision\n",
        "The precision looks at all the positive predictions and calculates the amount predicted correctly:\n",
        "\n",
        "$$precision = \\frac{TP}{TP + FP}$$\n",
        "\n",
        "#### Recall\n",
        "The recall is the value of correct identified predictions:\n",
        "\n",
        "$$recall = \\frac{TP}{TP + FN}$$\n",
        "\n",
        "#### F-Score\n",
        "The F-score is a harmonic mean of precision and recall. A F-score can be used as a general measure of how well the model predicted the results. F-score does the best job of any single statistic, but all four work together to describe the performance of a classifier.\n",
        "\n",
        "$$ F=2*\\frac{precision*recall}{precision + recall}$$\n",
        "\n",
        "\n",
        "#### Comparison between classifiers\n",
        "Naive Bayes:\n",
        "- Accuracy: 0.7505\n",
        "- Precision: 0.712776176753122\n",
        "- Recall: 0.7876857749469215\n",
        "- F-Score: 0.74836106908\n",
        "\n",
        "Logistic Regression:\n",
        "- Accuracy: 0.7165\n",
        "- Precision: 0.7022653721682848\n",
        "- Recall: 0.6910828025477707\n",
        "- F-Score: 0.69662921348314"
      ]
    },
    {
      "cell_type": "markdown",
      "metadata": {
        "id": "NquF3rebz7pr"
      },
      "source": [
        "**- Discussion of the conclusions that can be drawn from this comparison.**"
      ]
    },
    {
      "cell_type": "markdown",
      "metadata": {
        "id": "474c572Oz7pr"
      },
      "source": [
        "Both classifiers have reasonably high accuracy, precision, recall and F-score values. This means for both classifiers we can conclude that:\n",
        "* The measurements are in close agreement. This suggests the models are able to predict whether an event is classified as background or signal well.\n",
        "* The measurements are very similar when repeated by the same person or group. Thus, if the 29 measurements were repeated we would likely come to the same classifier outcome of events into background or signal.\n",
        "\n",
        "It can be seen that Naive Bayes has a slightly higher value for each scoring method. Thus, it is safe to conclude that Naive Bayes classifier is better at predicting whether an event is background or signal.\n",
        "\n",
        "It is important to note that whilst both models were reasonably positive when predicting events, it was not incredibly precise and roughly 25-30% of events are likely to be predicted incorrectly. There is likely a better model that could be fit to the data that is not discussed in this report. It would be worth looking at Random Forest Classifier, Decision Tree Classifier or XGBClassifier before making any final conclusions on the prediction model."
      ]
    }
  ]
}